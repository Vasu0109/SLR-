{
 "cells": [
  {
   "cell_type": "markdown",
   "metadata": {},
   "source": [
    "<table align=\"center\" width=100%>\n",
    "    <tr>\n",
    "        <td width=\"15%\">\n",
    "            <img src=\"homework.png\">\n",
    "        </td>\n",
    "        <td>\n",
    "            <div align=\"center\">\n",
    "                <font color=\"#21618C\" size=8px>\n",
    "                    <b> Take-Home <br>(Day 3)\n",
    "                    </b>\n",
    "                </font>\n",
    "            </div>\n",
    "        </td>\n",
    "    </tr>\n",
    "</table>"
   ]
  },
  {
   "cell_type": "markdown",
   "metadata": {},
   "source": [
    "#### Import the required libraries"
   ]
  },
  {
   "cell_type": "code",
   "execution_count": 1,
   "metadata": {},
   "outputs": [],
   "source": [
    "import numpy as np \n",
    "import pandas as pd \n",
    "from matplotlib import pyplot as plt\n",
    "import seaborn as sns\n",
    "import warnings\n",
    "warnings.filterwarnings('ignore')"
   ]
  },
  {
   "cell_type": "markdown",
   "metadata": {},
   "source": [
    "#### Read the data\n",
    "\n",
    "Load the csv file and print the first five observations."
   ]
  },
  {
   "cell_type": "code",
   "execution_count": 8,
   "metadata": {},
   "outputs": [],
   "source": [
    "df=pd.read_csv('fish_weight_predict.csv')\n",
    "x=df['Species'].value_counts()\n",
    "df['Species']=df['Species'].map(x)"
   ]
  },
  {
   "cell_type": "markdown",
   "metadata": {},
   "source": [
    "Our objective is to predict the weight of a fish."
   ]
  },
  {
   "cell_type": "markdown",
   "metadata": {},
   "source": [
    "**The data definition is as follows:** <br>\n",
    "\n",
    "**Species:** Species of a fish\n",
    "\n",
    "**Weight:** Weight of a fish (target/dependent variable)\n",
    "\n",
    "**V_length:** Vertical length of a fish\n",
    "\n",
    "**D_length:** Diagonal length of a fish\n",
    "\n",
    "**C_length:** Cross length of a fish\n",
    "\n",
    "**Height:** Height of a fish\n",
    "\n",
    "**Width:** Diagonal width of a fish"
   ]
  },
  {
   "cell_type": "markdown",
   "metadata": {},
   "source": [
    "### Let's begin with some hands-on practice exercises"
   ]
  },
  {
   "cell_type": "markdown",
   "metadata": {},
   "source": [
    "<table align=\"left\">\n",
    "    <tr>\n",
    "        <td width=\"6%\">\n",
    "            <img src=\"question_icon.png\">\n",
    "        </td>\n",
    "        <td>\n",
    "            <div align=\"left\", style=\"font-size:120%\">\n",
    "                <font color=\"#21618C\">\n",
    "                    <b>1. Build a full model on the scaled data and check whether the model is overfitting or not</b>\n",
    "                </font>\n",
    "            </div>\n",
    "        </td>\n",
    "    </tr>\n",
    "</table>"
   ]
  },
  {
   "cell_type": "code",
   "execution_count": 53,
   "metadata": {},
   "outputs": [
    {
     "data": {
      "text/html": [
       "<table class=\"simpletable\">\n",
       "<caption>OLS Regression Results</caption>\n",
       "<tr>\n",
       "  <th>Dep. Variable:</th>         <td>Weight</td>      <th>  R-squared:         </th> <td>   0.888</td>\n",
       "</tr>\n",
       "<tr>\n",
       "  <th>Model:</th>                   <td>OLS</td>       <th>  Adj. R-squared:    </th> <td>   0.883</td>\n",
       "</tr>\n",
       "<tr>\n",
       "  <th>Method:</th>             <td>Least Squares</td>  <th>  F-statistic:       </th> <td>   200.3</td>\n",
       "</tr>\n",
       "<tr>\n",
       "  <th>Date:</th>             <td>Sat, 18 Dec 2021</td> <th>  Prob (F-statistic):</th> <td>1.60e-69</td>\n",
       "</tr>\n",
       "<tr>\n",
       "  <th>Time:</th>                 <td>15:03:29</td>     <th>  Log-Likelihood:    </th> <td> -985.89</td>\n",
       "</tr>\n",
       "<tr>\n",
       "  <th>No. Observations:</th>      <td>   159</td>      <th>  AIC:               </th> <td>   1986.</td>\n",
       "</tr>\n",
       "<tr>\n",
       "  <th>Df Residuals:</th>          <td>   152</td>      <th>  BIC:               </th> <td>   2007.</td>\n",
       "</tr>\n",
       "<tr>\n",
       "  <th>Df Model:</th>              <td>     6</td>      <th>                     </th>     <td> </td>   \n",
       "</tr>\n",
       "<tr>\n",
       "  <th>Covariance Type:</th>      <td>nonrobust</td>    <th>                     </th>     <td> </td>   \n",
       "</tr>\n",
       "</table>\n",
       "<table class=\"simpletable\">\n",
       "<tr>\n",
       "      <td></td>        <th>coef</th>     <th>std err</th>      <th>t</th>      <th>P>|t|</th>  <th>[0.025</th>    <th>0.975]</th>  \n",
       "</tr>\n",
       "<tr>\n",
       "  <th>const</th>    <td> -465.7652</td> <td>   35.204</td> <td>  -13.231</td> <td> 0.000</td> <td> -535.317</td> <td> -396.213</td>\n",
       "</tr>\n",
       "<tr>\n",
       "  <th>Species</th>  <td>   -1.1865</td> <td>    0.747</td> <td>   -1.589</td> <td> 0.114</td> <td>   -2.662</td> <td>    0.289</td>\n",
       "</tr>\n",
       "<tr>\n",
       "  <th>V_length</th> <td>   41.6909</td> <td>   42.215</td> <td>    0.988</td> <td> 0.325</td> <td>  -41.713</td> <td>  125.095</td>\n",
       "</tr>\n",
       "<tr>\n",
       "  <th>D_length</th> <td>   24.9138</td> <td>   46.569</td> <td>    0.535</td> <td> 0.593</td> <td>  -67.092</td> <td>  116.919</td>\n",
       "</tr>\n",
       "<tr>\n",
       "  <th>C_length</th> <td>  -41.7214</td> <td>   19.199</td> <td>   -2.173</td> <td> 0.031</td> <td>  -79.653</td> <td>   -3.790</td>\n",
       "</tr>\n",
       "<tr>\n",
       "  <th>Height</th>   <td>   30.3887</td> <td>    8.782</td> <td>    3.460</td> <td> 0.001</td> <td>   13.038</td> <td>   47.740</td>\n",
       "</tr>\n",
       "<tr>\n",
       "  <th>Width</th>    <td>   30.1893</td> <td>   20.620</td> <td>    1.464</td> <td> 0.145</td> <td>  -10.549</td> <td>   70.928</td>\n",
       "</tr>\n",
       "</table>\n",
       "<table class=\"simpletable\">\n",
       "<tr>\n",
       "  <th>Omnibus:</th>       <td>22.058</td> <th>  Durbin-Watson:     </th> <td>   0.434</td>\n",
       "</tr>\n",
       "<tr>\n",
       "  <th>Prob(Omnibus):</th> <td> 0.000</td> <th>  Jarque-Bera (JB):  </th> <td>  30.460</td>\n",
       "</tr>\n",
       "<tr>\n",
       "  <th>Skew:</th>          <td> 0.792</td> <th>  Prob(JB):          </th> <td>2.43e-07</td>\n",
       "</tr>\n",
       "<tr>\n",
       "  <th>Kurtosis:</th>      <td> 4.445</td> <th>  Cond. No.          </th> <td>    410.</td>\n",
       "</tr>\n",
       "</table><br/><br/>Notes:<br/>[1] Standard Errors assume that the covariance matrix of the errors is correctly specified."
      ],
      "text/plain": [
       "<class 'statsmodels.iolib.summary.Summary'>\n",
       "\"\"\"\n",
       "                            OLS Regression Results                            \n",
       "==============================================================================\n",
       "Dep. Variable:                 Weight   R-squared:                       0.888\n",
       "Model:                            OLS   Adj. R-squared:                  0.883\n",
       "Method:                 Least Squares   F-statistic:                     200.3\n",
       "Date:                Sat, 18 Dec 2021   Prob (F-statistic):           1.60e-69\n",
       "Time:                        15:03:29   Log-Likelihood:                -985.89\n",
       "No. Observations:                 159   AIC:                             1986.\n",
       "Df Residuals:                     152   BIC:                             2007.\n",
       "Df Model:                           6                                         \n",
       "Covariance Type:            nonrobust                                         \n",
       "==============================================================================\n",
       "                 coef    std err          t      P>|t|      [0.025      0.975]\n",
       "------------------------------------------------------------------------------\n",
       "const       -465.7652     35.204    -13.231      0.000    -535.317    -396.213\n",
       "Species       -1.1865      0.747     -1.589      0.114      -2.662       0.289\n",
       "V_length      41.6909     42.215      0.988      0.325     -41.713     125.095\n",
       "D_length      24.9138     46.569      0.535      0.593     -67.092     116.919\n",
       "C_length     -41.7214     19.199     -2.173      0.031     -79.653      -3.790\n",
       "Height        30.3887      8.782      3.460      0.001      13.038      47.740\n",
       "Width         30.1893     20.620      1.464      0.145     -10.549      70.928\n",
       "==============================================================================\n",
       "Omnibus:                       22.058   Durbin-Watson:                   0.434\n",
       "Prob(Omnibus):                  0.000   Jarque-Bera (JB):               30.460\n",
       "Skew:                           0.792   Prob(JB):                     2.43e-07\n",
       "Kurtosis:                       4.445   Cond. No.                         410.\n",
       "==============================================================================\n",
       "\n",
       "Notes:\n",
       "[1] Standard Errors assume that the covariance matrix of the errors is correctly specified.\n",
       "\"\"\""
      ]
     },
     "execution_count": 53,
     "metadata": {},
     "output_type": "execute_result"
    }
   ],
   "source": [
    "x = df.drop(columns = \"Weight\")\n",
    "y = df[\"Weight\"]\n",
    "\n",
    "from statsmodels import api\n",
    "xc = api.add_constant(x)\n",
    "ols_model =  api.OLS(y,xc)\n",
    "linear_model = ols_model.fit()\n",
    "y_pred = linear_model.predict()\n",
    "linear_model.summary()\n",
    "# dir(linear_model)"
   ]
  },
  {
   "cell_type": "code",
   "execution_count": 36,
   "metadata": {},
   "outputs": [
    {
     "data": {
      "text/plain": [
       "(0.3400913317462113, 0.34269843193253396)"
      ]
     },
     "execution_count": 36,
     "metadata": {},
     "output_type": "execute_result"
    }
   ],
   "source": [
    "from sklearn.preprocessing import StandardScaler\n",
    "sc=StandardScaler()\n",
    "df_sc=sc.fit_transform(df)\n",
    "df_sc=pd.DataFrame(df_sc,columns=df.columns)\n",
    "\n",
    "x = df_sc.drop(columns = \"Weight\")\n",
    "y = df_sc[\"Weight\"]\n",
    "from sklearn.model_selection import train_test_split\n",
    "x_train,x_test,y_train,y_test = train_test_split(x,y,test_size = 0.3,random_state = 100)\n",
    "from sklearn.linear_model import LinearRegression\n",
    "lr=  LinearRegression()\n",
    "sfs = lr.fit(x,y)\n",
    "lr.fit(x_train,y_train)\n",
    "y_pred_train = lr.predict(x_train)\n",
    "y_pred_test  = lr.predict(x_test)\n",
    "from sklearn.metrics import mean_squared_error\n",
    "mse_train = mean_squared_error(y_pred_train,y_train)\n",
    "mse_test = mean_squared_error(y_pred_test,y_test)\n",
    "rmse_train = np.sqrt(mse_train)\n",
    "rmse_test = np.sqrt(mse_test)\n",
    "rmse_train,rmse_test\n",
    "# No over fiting"
   ]
  },
  {
   "cell_type": "markdown",
   "metadata": {},
   "source": [
    "<table align=\"left\">\n",
    "    <tr>\n",
    "        <td width=\"6%\">\n",
    "            <img src=\"question_icon.png\">\n",
    "        </td>\n",
    "        <td>\n",
    "            <div align=\"left\", style=\"font-size:120%\">\n",
    "                <font color=\"#21618C\">\n",
    "                    <b>2. Is there multicollinearity present in the scaled data?\n",
    "                     </b>\n",
    "                </font>\n",
    "            </div>\n",
    "        </td>\n",
    "    </tr>\n",
    "</table>"
   ]
  },
  {
   "cell_type": "code",
   "execution_count": 35,
   "metadata": {},
   "outputs": [
    {
     "data": {
      "text/html": [
       "<div>\n",
       "<style scoped>\n",
       "    .dataframe tbody tr th:only-of-type {\n",
       "        vertical-align: middle;\n",
       "    }\n",
       "\n",
       "    .dataframe tbody tr th {\n",
       "        vertical-align: top;\n",
       "    }\n",
       "\n",
       "    .dataframe thead th {\n",
       "        text-align: right;\n",
       "    }\n",
       "</style>\n",
       "<table border=\"1\" class=\"dataframe\">\n",
       "  <thead>\n",
       "    <tr style=\"text-align: right;\">\n",
       "      <th></th>\n",
       "      <th>vif</th>\n",
       "    </tr>\n",
       "  </thead>\n",
       "  <tbody>\n",
       "    <tr>\n",
       "      <th>const</th>\n",
       "      <td>1.000000</td>\n",
       "    </tr>\n",
       "    <tr>\n",
       "      <th>Species</th>\n",
       "      <td>1.951919</td>\n",
       "    </tr>\n",
       "    <tr>\n",
       "      <th>V_length</th>\n",
       "      <td>1890.038016</td>\n",
       "    </tr>\n",
       "    <tr>\n",
       "      <th>D_length</th>\n",
       "      <td>2643.174016</td>\n",
       "    </tr>\n",
       "    <tr>\n",
       "      <th>C_length</th>\n",
       "      <td>527.338264</td>\n",
       "    </tr>\n",
       "    <tr>\n",
       "      <th>Height</th>\n",
       "      <td>15.038449</td>\n",
       "    </tr>\n",
       "    <tr>\n",
       "      <th>Width</th>\n",
       "      <td>12.824278</td>\n",
       "    </tr>\n",
       "  </tbody>\n",
       "</table>\n",
       "</div>"
      ],
      "text/plain": [
       "                  vif\n",
       "const        1.000000\n",
       "Species      1.951919\n",
       "V_length  1890.038016\n",
       "D_length  2643.174016\n",
       "C_length   527.338264\n",
       "Height      15.038449\n",
       "Width       12.824278"
      ]
     },
     "execution_count": 35,
     "metadata": {},
     "output_type": "execute_result"
    }
   ],
   "source": [
    "from statsmodels.stats.outliers_influence import variance_inflation_factor as vif\n",
    "vf=[ vif(xc.values,i) for i in range(xc.shape[1]) ]\n",
    "pd.DataFrame(vf,index=xc.columns,columns=['vif'])\n",
    "# except species all otheres have high muticollinearity\n"
   ]
  },
  {
   "cell_type": "markdown",
   "metadata": {},
   "source": [
    "<table align=\"left\">\n",
    "    <tr>\n",
    "        <td width=\"6%\">\n",
    "            <img src=\"question_icon.png\">\n",
    "        </td>\n",
    "        <td>\n",
    "            <div align=\"left\", style=\"font-size:120%\">\n",
    "                <font color=\"#21618C\">\n",
    "                    <b>3. Apply the ridge regression with 'alpha = 1.5' and compare the RMSE on the test dataset with the RMSE obtained from linear regression using OLS\n",
    "                    </b>\n",
    "                </font>\n",
    "            </div>\n",
    "        </td>\n",
    "    </tr>\n",
    "</table>"
   ]
  },
  {
   "cell_type": "code",
   "execution_count": 38,
   "metadata": {},
   "outputs": [
    {
     "data": {
      "text/plain": [
       "[0.8238888547396368,\n",
       " 0.8547994778678973,\n",
       " 0.43475069745805345,\n",
       " 0.3471057603121905]"
      ]
     },
     "execution_count": 38,
     "metadata": {},
     "output_type": "execute_result"
    }
   ],
   "source": [
    "from sklearn import metrics \n",
    "from sklearn.linear_model import Ridge,Lasso,ElasticNet\n",
    "rid= Ridge(alpha=1.5,normalize=True)\n",
    "rid.fit(xtrain,ytrain)\n",
    "y_pred_train= rid.predict(xtrain)\n",
    "y_pred_test= rid.predict(xtest)\n",
    "train_r2= r2_score(ytrain,y_pred_train)\n",
    "test_r2= r2_score(ytest,y_pred_test)\n",
    "train_mse = metrics.mean_squared_error(ytrain,y_pred_train)\n",
    "test_mse = metrics.mean_squared_error(ytest,y_pred_test)\n",
    "\n",
    "train_rmse = np.sqrt(train_mse)\n",
    "test_rmse=np.sqrt(test_mse)\n",
    "res_ridge=[train_r2,test_r2,train_rmse,test_rmse]\n",
    "res_ridge"
   ]
  },
  {
   "cell_type": "markdown",
   "metadata": {},
   "source": [
    "<table align=\"left\">\n",
    "    <tr>\n",
    "        <td width=\"6%\">\n",
    "            <img src=\"question_icon.png\">\n",
    "        </td>\n",
    "        <td>\n",
    "            <div align=\"left\", style=\"font-size:120%\">\n",
    "                <font color=\"#21618C\">\n",
    "                    <b>4. Build a full model using SGD. Plot a multiple barchart to compare the beta coefficients for each variable obtained by the SGD model and the full model build using OLS \n",
    "                    </b>\n",
    "                </font>\n",
    "            </div>\n",
    "        </td>\n",
    "    </tr>\n",
    "</table>"
   ]
  },
  {
   "cell_type": "code",
   "execution_count": 55,
   "metadata": {},
   "outputs": [
    {
     "data": {
      "image/png": "[encoded data removed]",
      "text/plain": [
       "<Figure size 432x288 with 1 Axes>"
      ]
     },
     "metadata": {
      "needs_background": "light"
     },
     "output_type": "display_data"
    },
    {
     "data": {
      "image/png": "[encoded data removed]",
      "text/plain": [
       "<Figure size 432x288 with 1 Axes>"
      ]
     },
     "metadata": {
      "needs_background": "light"
     },
     "output_type": "display_data"
    }
   ],
   "source": [
    "from sklearn.linear_model import SGDRegressor\n",
    "n_iter=100\n",
    "clf_ = SGDRegressor(max_iter=n_iter)\n",
    "sgd=clf_.fit(x_train, y_train)\n",
    "y_pred_sksgd=clf_.predict(x_test)\n",
    "lm=pd.DataFrame([-1.1865,41.6909,24.9138,-41.7214,30.3887,30.11893])\n",
    "x=pd.DataFrame(sgd.coef_)\n",
    "\n",
    "x.plot(kind='bar')\n",
    "lm.plot(kind='bar')\n",
    "plt.show()"
   ]
  },
  {
   "cell_type": "markdown",
   "metadata": {},
   "source": [
    "<table align=\"left\">\n",
    "    <tr>\n",
    "        <td width=\"6%\">\n",
    "            <img src=\"question_icon.png\">\n",
    "        </td>\n",
    "        <td>\n",
    "            <div align=\"left\", style=\"font-size:120%\">\n",
    "                <font color=\"#21618C\">\n",
    "                    <b>5. Identify the least significant variables in the data by considering 'alpha = 0.1' \n",
    "                    </b>\n",
    "                </font>\n",
    "            </div>\n",
    "        </td>\n",
    "    </tr>\n",
    "</table>"
   ]
  },
  {
   "cell_type": "code",
   "execution_count": 57,
   "metadata": {},
   "outputs": [
    {
     "data": {
      "text/html": [
       "<table class=\"simpletable\">\n",
       "<caption>OLS Regression Results</caption>\n",
       "<tr>\n",
       "  <th>Dep. Variable:</th>         <td>Weight</td>      <th>  R-squared:         </th> <td>   0.888</td>\n",
       "</tr>\n",
       "<tr>\n",
       "  <th>Model:</th>                   <td>OLS</td>       <th>  Adj. R-squared:    </th> <td>   0.883</td>\n",
       "</tr>\n",
       "<tr>\n",
       "  <th>Method:</th>             <td>Least Squares</td>  <th>  F-statistic:       </th> <td>   200.3</td>\n",
       "</tr>\n",
       "<tr>\n",
       "  <th>Date:</th>             <td>Sat, 18 Dec 2021</td> <th>  Prob (F-statistic):</th> <td>1.60e-69</td>\n",
       "</tr>\n",
       "<tr>\n",
       "  <th>Time:</th>                 <td>15:06:32</td>     <th>  Log-Likelihood:    </th> <td> -985.89</td>\n",
       "</tr>\n",
       "<tr>\n",
       "  <th>No. Observations:</th>      <td>   159</td>      <th>  AIC:               </th> <td>   1986.</td>\n",
       "</tr>\n",
       "<tr>\n",
       "  <th>Df Residuals:</th>          <td>   152</td>      <th>  BIC:               </th> <td>   2007.</td>\n",
       "</tr>\n",
       "<tr>\n",
       "  <th>Df Model:</th>              <td>     6</td>      <th>                     </th>     <td> </td>   \n",
       "</tr>\n",
       "<tr>\n",
       "  <th>Covariance Type:</th>      <td>nonrobust</td>    <th>                     </th>     <td> </td>   \n",
       "</tr>\n",
       "</table>\n",
       "<table class=\"simpletable\">\n",
       "<tr>\n",
       "      <td></td>        <th>coef</th>     <th>std err</th>      <th>t</th>      <th>P>|t|</th>   <th>[0.05</th>     <th>0.95]</th>  \n",
       "</tr>\n",
       "<tr>\n",
       "  <th>const</th>    <td> -465.7652</td> <td>   35.204</td> <td>  -13.231</td> <td> 0.000</td> <td> -524.025</td> <td> -407.505</td>\n",
       "</tr>\n",
       "<tr>\n",
       "  <th>Species</th>  <td>   -1.1865</td> <td>    0.747</td> <td>   -1.589</td> <td> 0.114</td> <td>   -2.423</td> <td>    0.049</td>\n",
       "</tr>\n",
       "<tr>\n",
       "  <th>V_length</th> <td>   41.6909</td> <td>   42.215</td> <td>    0.988</td> <td> 0.325</td> <td>  -28.172</td> <td>  111.554</td>\n",
       "</tr>\n",
       "<tr>\n",
       "  <th>D_length</th> <td>   24.9138</td> <td>   46.569</td> <td>    0.535</td> <td> 0.593</td> <td>  -52.155</td> <td>  101.982</td>\n",
       "</tr>\n",
       "<tr>\n",
       "  <th>C_length</th> <td>  -41.7214</td> <td>   19.199</td> <td>   -2.173</td> <td> 0.031</td> <td>  -73.495</td> <td>   -9.948</td>\n",
       "</tr>\n",
       "<tr>\n",
       "  <th>Height</th>   <td>   30.3887</td> <td>    8.782</td> <td>    3.460</td> <td> 0.001</td> <td>   15.855</td> <td>   44.923</td>\n",
       "</tr>\n",
       "<tr>\n",
       "  <th>Width</th>    <td>   30.1893</td> <td>   20.620</td> <td>    1.464</td> <td> 0.145</td> <td>   -3.935</td> <td>   64.314</td>\n",
       "</tr>\n",
       "</table>\n",
       "<table class=\"simpletable\">\n",
       "<tr>\n",
       "  <th>Omnibus:</th>       <td>22.058</td> <th>  Durbin-Watson:     </th> <td>   0.434</td>\n",
       "</tr>\n",
       "<tr>\n",
       "  <th>Prob(Omnibus):</th> <td> 0.000</td> <th>  Jarque-Bera (JB):  </th> <td>  30.460</td>\n",
       "</tr>\n",
       "<tr>\n",
       "  <th>Skew:</th>          <td> 0.792</td> <th>  Prob(JB):          </th> <td>2.43e-07</td>\n",
       "</tr>\n",
       "<tr>\n",
       "  <th>Kurtosis:</th>      <td> 4.445</td> <th>  Cond. No.          </th> <td>    410.</td>\n",
       "</tr>\n",
       "</table><br/><br/>Notes:<br/>[1] Standard Errors assume that the covariance matrix of the errors is correctly specified."
      ],
      "text/plain": [
       "<class 'statsmodels.iolib.summary.Summary'>\n",
       "\"\"\"\n",
       "                            OLS Regression Results                            \n",
       "==============================================================================\n",
       "Dep. Variable:                 Weight   R-squared:                       0.888\n",
       "Model:                            OLS   Adj. R-squared:                  0.883\n",
       "Method:                 Least Squares   F-statistic:                     200.3\n",
       "Date:                Sat, 18 Dec 2021   Prob (F-statistic):           1.60e-69\n",
       "Time:                        15:06:32   Log-Likelihood:                -985.89\n",
       "No. Observations:                 159   AIC:                             1986.\n",
       "Df Residuals:                     152   BIC:                             2007.\n",
       "Df Model:                           6                                         \n",
       "Covariance Type:            nonrobust                                         \n",
       "==============================================================================\n",
       "                 coef    std err          t      P>|t|       [0.05       0.95]\n",
       "------------------------------------------------------------------------------\n",
       "const       -465.7652     35.204    -13.231      0.000    -524.025    -407.505\n",
       "Species       -1.1865      0.747     -1.589      0.114      -2.423       0.049\n",
       "V_length      41.6909     42.215      0.988      0.325     -28.172     111.554\n",
       "D_length      24.9138     46.569      0.535      0.593     -52.155     101.982\n",
       "C_length     -41.7214     19.199     -2.173      0.031     -73.495      -9.948\n",
       "Height        30.3887      8.782      3.460      0.001      15.855      44.923\n",
       "Width         30.1893     20.620      1.464      0.145      -3.935      64.314\n",
       "==============================================================================\n",
       "Omnibus:                       22.058   Durbin-Watson:                   0.434\n",
       "Prob(Omnibus):                  0.000   Jarque-Bera (JB):               30.460\n",
       "Skew:                           0.792   Prob(JB):                     2.43e-07\n",
       "Kurtosis:                       4.445   Cond. No.                         410.\n",
       "==============================================================================\n",
       "\n",
       "Notes:\n",
       "[1] Standard Errors assume that the covariance matrix of the errors is correctly specified.\n",
       "\"\"\""
      ]
     },
     "execution_count": 57,
     "metadata": {},
     "output_type": "execute_result"
    }
   ],
   "source": [
    "x = df.drop(columns = \"Weight\")\n",
    "y = df[\"Weight\"]\n",
    "\n",
    "from statsmodels import api\n",
    "xc = api.add_constant(x)\n",
    "ols_model =  api.OLS(y,xc)\n",
    "linear_model = ols_model.fit()\n",
    "y_pred = linear_model.predict()\n",
    "linear_model.summary(alpha=0.1)\n",
    "# any one of Width,D_length,V_length,Species can be removed one by one then build model again "
   ]
  },
  {
   "cell_type": "markdown",
   "metadata": {},
   "source": [
    "<table align=\"left\">\n",
    "    <tr>\n",
    "        <td width=\"6%\">\n",
    "            <img src=\"question_icon.png\">\n",
    "        </td>\n",
    "        <td>\n",
    "            <div align=\"left\", style=\"font-size:120%\">\n",
    "                <font color=\"#21618C\">\n",
    "                    <b>6. What is the impact of diagonal width on the weight of a fish?\n",
    "                    </b>\n",
    "                </font>\n",
    "            </div>\n",
    "        </td>\n",
    "    </tr>\n",
    "</table>"
   ]
  },
  {
   "cell_type": "code",
   "execution_count": 61,
   "metadata": {},
   "outputs": [
    {
     "data": {
      "text/html": [
       "<table class=\"simpletable\">\n",
       "<caption>OLS Regression Results</caption>\n",
       "<tr>\n",
       "  <th>Dep. Variable:</th>         <td>Weight</td>      <th>  R-squared:         </th> <td>   0.844</td>\n",
       "</tr>\n",
       "<tr>\n",
       "  <th>Model:</th>                   <td>OLS</td>       <th>  Adj. R-squared:    </th> <td>   0.843</td>\n",
       "</tr>\n",
       "<tr>\n",
       "  <th>Method:</th>             <td>Least Squares</td>  <th>  F-statistic:       </th> <td>   851.4</td>\n",
       "</tr>\n",
       "<tr>\n",
       "  <th>Date:</th>             <td>Sat, 18 Dec 2021</td> <th>  Prob (F-statistic):</th> <td>2.70e-65</td>\n",
       "</tr>\n",
       "<tr>\n",
       "  <th>Time:</th>                 <td>15:09:00</td>     <th>  Log-Likelihood:    </th> <td> -1011.9</td>\n",
       "</tr>\n",
       "<tr>\n",
       "  <th>No. Observations:</th>      <td>   159</td>      <th>  AIC:               </th> <td>   2028.</td>\n",
       "</tr>\n",
       "<tr>\n",
       "  <th>Df Residuals:</th>          <td>   157</td>      <th>  BIC:               </th> <td>   2034.</td>\n",
       "</tr>\n",
       "<tr>\n",
       "  <th>Df Model:</th>              <td>     1</td>      <th>                     </th>     <td> </td>   \n",
       "</tr>\n",
       "<tr>\n",
       "  <th>Covariance Type:</th>      <td>nonrobust</td>    <th>                     </th>     <td> </td>   \n",
       "</tr>\n",
       "</table>\n",
       "<table class=\"simpletable\">\n",
       "<tr>\n",
       "      <td></td>        <th>coef</th>     <th>std err</th>      <th>t</th>      <th>P>|t|</th>  <th>[0.025</th>    <th>0.975]</th>  \n",
       "</tr>\n",
       "<tr>\n",
       "  <th>const</th>    <td> -470.8461</td> <td>   31.857</td> <td>  -14.780</td> <td> 0.000</td> <td> -533.770</td> <td> -407.922</td>\n",
       "</tr>\n",
       "<tr>\n",
       "  <th>D_length</th> <td>   30.6209</td> <td>    1.049</td> <td>   29.179</td> <td> 0.000</td> <td>   28.548</td> <td>   32.694</td>\n",
       "</tr>\n",
       "</table>\n",
       "<table class=\"simpletable\">\n",
       "<tr>\n",
       "  <th>Omnibus:</th>       <td> 7.767</td> <th>  Durbin-Watson:     </th> <td>   0.377</td>\n",
       "</tr>\n",
       "<tr>\n",
       "  <th>Prob(Omnibus):</th> <td> 0.021</td> <th>  Jarque-Bera (JB):  </th> <td>   7.661</td>\n",
       "</tr>\n",
       "<tr>\n",
       "  <th>Skew:</th>          <td>-0.450</td> <th>  Prob(JB):          </th> <td>  0.0217</td>\n",
       "</tr>\n",
       "<tr>\n",
       "  <th>Kurtosis:</th>      <td> 3.589</td> <th>  Cond. No.          </th> <td>    86.4</td>\n",
       "</tr>\n",
       "</table><br/><br/>Notes:<br/>[1] Standard Errors assume that the covariance matrix of the errors is correctly specified."
      ],
      "text/plain": [
       "<class 'statsmodels.iolib.summary.Summary'>\n",
       "\"\"\"\n",
       "                            OLS Regression Results                            \n",
       "==============================================================================\n",
       "Dep. Variable:                 Weight   R-squared:                       0.844\n",
       "Model:                            OLS   Adj. R-squared:                  0.843\n",
       "Method:                 Least Squares   F-statistic:                     851.4\n",
       "Date:                Sat, 18 Dec 2021   Prob (F-statistic):           2.70e-65\n",
       "Time:                        15:09:00   Log-Likelihood:                -1011.9\n",
       "No. Observations:                 159   AIC:                             2028.\n",
       "Df Residuals:                     157   BIC:                             2034.\n",
       "Df Model:                           1                                         \n",
       "Covariance Type:            nonrobust                                         \n",
       "==============================================================================\n",
       "                 coef    std err          t      P>|t|      [0.025      0.975]\n",
       "------------------------------------------------------------------------------\n",
       "const       -470.8461     31.857    -14.780      0.000    -533.770    -407.922\n",
       "D_length      30.6209      1.049     29.179      0.000      28.548      32.694\n",
       "==============================================================================\n",
       "Omnibus:                        7.767   Durbin-Watson:                   0.377\n",
       "Prob(Omnibus):                  0.021   Jarque-Bera (JB):                7.661\n",
       "Skew:                          -0.450   Prob(JB):                       0.0217\n",
       "Kurtosis:                       3.589   Cond. No.                         86.4\n",
       "==============================================================================\n",
       "\n",
       "Notes:\n",
       "[1] Standard Errors assume that the covariance matrix of the errors is correctly specified.\n",
       "\"\"\""
      ]
     },
     "execution_count": 61,
     "metadata": {},
     "output_type": "execute_result"
    }
   ],
   "source": [
    "x = df['D_length']\n",
    "y = df[\"Weight\"]\n",
    "\n",
    "from statsmodels import api\n",
    "xc = api.add_constant(x)\n",
    "ols_model =  api.OLS(y,xc)\n",
    "linear_model = ols_model.fit()\n",
    "y_pred = linear_model.predict()\n",
    "linear_model.summary()\n",
    "# there is impact \n"
   ]
  },
  {
   "cell_type": "markdown",
   "metadata": {},
   "source": [
    "<table align=\"left\">\n",
    "    <tr>\n",
    "        <td width=\"6%\">\n",
    "            <img src=\"question_icon.png\">\n",
    "        </td>\n",
    "        <td>\n",
    "            <div align=\"left\", style=\"font-size:120%\">\n",
    "                <font color=\"#21618C\">\n",
    "                    <b>7. Which value of alpha from the list of values returns lowest RMSE on the test set in ridge regression\n",
    "                    </b>\n",
    "                </font>\n",
    "            </div>\n",
    "        </td>\n",
    "    </tr>\n",
    "</table>"
   ]
  },
  {
   "cell_type": "markdown",
   "metadata": {},
   "source": [
    "Consider the list of values for alpha:\n",
    "\n",
    "    list_of_alpha = [0.00001, 0.001, 0.1, 10, 100]\n",
    "    \n",
    "Consider 5-fold cross validation."
   ]
  },
  {
   "cell_type": "code",
   "execution_count": 65,
   "metadata": {},
   "outputs": [
    {
     "data": {
      "text/plain": [
       "{'alpha': 0.001}"
      ]
     },
     "execution_count": 65,
     "metadata": {},
     "output_type": "execute_result"
    }
   ],
   "source": [
    "from sklearn.model_selection import GridSearchCV\n",
    "param= {'alpha':[0.00001, 0.001, 0.1, 10, 100]}\n",
    "r= Ridge(normalize=True)\n",
    "r_cv= GridSearchCV(r,param,cv=5,scoring='r2')\n",
    "r_cv.fit(xtrain,ytrain)\n",
    "r_cv.best_params_"
   ]
  },
  {
   "cell_type": "markdown",
   "metadata": {},
   "source": [
    "<table align=\"left\">\n",
    "    <tr>\n",
    "        <td width=\"6%\">\n",
    "            <img src=\"question_icon.png\">\n",
    "        </td>\n",
    "        <td>\n",
    "            <div align=\"left\", style=\"font-size:120%\">\n",
    "                <font color=\"#21618C\">\n",
    "                    <b>8. Select the best value for the elastic net mixing parameter from the list of values\n",
    "                    </b>\n",
    "                </font>\n",
    "            </div>\n",
    "        </td>\n",
    "    </tr>\n",
    "</table>"
   ]
  },
  {
   "cell_type": "markdown",
   "metadata": {},
   "source": [
    "Consider the below list of values:\n",
    "\n",
    "    list_of_parameter = [0.0001, 0.001, 0.01, 0.1, 1]\n",
    "\n",
    "Consider 5-fold cross validation."
   ]
  },
  {
   "cell_type": "code",
   "execution_count": 67,
   "metadata": {},
   "outputs": [
    {
     "data": {
      "text/plain": [
       "{'alpha': 1e-05, 'l1_ratio': 0.6}"
      ]
     },
     "execution_count": 67,
     "metadata": {},
     "output_type": "execute_result"
    }
   ],
   "source": [
    "param= {'alpha':[0.00001, 0.001, 0.1, 0.1, 1],'l1_ratio':[0.4,0.5,0.6]}\n",
    "e= ElasticNet(normalize=True)\n",
    "e_cv=GridSearchCV(e,param,cv=5,scoring='r2')\n",
    "e_cv.fit(xtrain,ytrain)\n",
    "e_cv.best_params_"
   ]
  },
  {
   "cell_type": "markdown",
   "metadata": {},
   "source": [
    "<table align=\"left\">\n",
    "    <tr>\n",
    "        <td width=\"6%\">\n",
    "            <img src=\"question_icon.png\">\n",
    "        </td>\n",
    "        <td>\n",
    "            <div align=\"left\", style=\"font-size:120%\">\n",
    "                <font color=\"#21618C\">\n",
    "                    <b>9. Identify the best value of alpha from the list of values for lasso regression\n",
    "                    </b>\n",
    "                </font>\n",
    "            </div>\n",
    "        </td>\n",
    "    </tr>\n",
    "</table>"
   ]
  },
  {
   "cell_type": "markdown",
   "metadata": {},
   "source": [
    "Consider the list of values for alpha:\n",
    "\n",
    "    list_of_alpha = [0.0001, 0.001, 0.1, 1, 2, 3]\n",
    "    \n",
    "Consider 5-fold cross validation."
   ]
  },
  {
   "cell_type": "code",
   "execution_count": 69,
   "metadata": {},
   "outputs": [
    {
     "data": {
      "text/plain": [
       "{'alpha': 0.001}"
      ]
     },
     "execution_count": 69,
     "metadata": {},
     "output_type": "execute_result"
    }
   ],
   "source": [
    "from sklearn.linear_model import Lasso\n",
    "param= {'alpha':[0.0001, 0.001, 0.1, 1, 2, 3]}\n",
    "r= Lasso(normalize=True)\n",
    "r_cv= GridSearchCV(r,param,cv=5,scoring='r2')\n",
    "r_cv.fit(xtrain,ytrain)\n",
    "r_cv.best_params_"
   ]
  },
  {
   "cell_type": "markdown",
   "metadata": {},
   "source": [
    "<table align=\"left\">\n",
    "    <tr>\n",
    "        <td width=\"6%\">\n",
    "            <img src=\"question_icon.png\">\n",
    "        </td>\n",
    "        <td>\n",
    "            <div align=\"left\", style=\"font-size:120%\">\n",
    "                <font color=\"#21618C\">\n",
    "                    <b>10. Build the elastic net regression model with 'alpha = 0.1' and best l1_ratio obtained by the GridSearchCV method. Also, compute the RMSE for test set\n",
    "                    </b>\n",
    "                </font>\n",
    "            </div>\n",
    "        </td>\n",
    "    </tr>\n",
    "</table>"
   ]
  },
  {
   "cell_type": "code",
   "execution_count": 70,
   "metadata": {},
   "outputs": [
    {
     "data": {
      "text/plain": [
       "{'l1_ratio': 0.4}"
      ]
     },
     "execution_count": 70,
     "metadata": {},
     "output_type": "execute_result"
    }
   ],
   "source": [
    "param= {'l1_ratio':[0.4,0.5,0.6]}\n",
    "e= ElasticNet(normalize=True)\n",
    "e_cv=GridSearchCV(e,param,cv=5,scoring='r2')\n",
    "e_cv.fit(xtrain,ytrain)\n",
    "e_cv.best_params_"
   ]
  },
  {
   "cell_type": "code",
   "execution_count": 74,
   "metadata": {},
   "outputs": [
    {
     "data": {
      "text/plain": [
       "[0.3341117489732156,\n",
       " 0.3578866105345574,\n",
       " 0.8453713841494557,\n",
       " 0.7299340026326756]"
      ]
     },
     "execution_count": 74,
     "metadata": {},
     "output_type": "execute_result"
    }
   ],
   "source": [
    "eas= ElasticNet(alpha=0.1,normalize=True,l1_ratio=0.4)\n",
    "eas.fit(xtrain,ytrain)\n",
    "y_pred_train= eas.predict(xtrain)\n",
    "y_pred_test= eas.predict(xtest)\n",
    "train_r2= r2_score(ytrain,y_pred_train)\n",
    "test_r2= r2_score(ytest,y_pred_test)\n",
    "train_mse = metrics.mean_squared_error(ytrain,y_pred_train)\n",
    "test_mse = metrics.mean_squared_error(ytest,y_pred_test)\n",
    "\n",
    "train_rmse = np.sqrt(train_mse)\n",
    "test_rmse=np.sqrt(test_mse)\n",
    "res_eas=[train_r2,test_r2,train_rmse,test_rmse]\n",
    "res_eas"
   ]
  },
  {
   "cell_type": "code",
   "execution_count": null,
   "metadata": {},
   "outputs": [],
   "source": []
  }
 ],
 "metadata": {
  "kernelspec": {
   "display_name": "Python 3",
   "language": "python",
   "name": "python3"
  },
  "language_info": {
   "codemirror_mode": {
    "name": "ipython",
    "version": 3
   },
   "file_extension": ".py",
   "mimetype": "text/x-python",
   "name": "python",
   "nbconvert_exporter": "python",
   "pygments_lexer": "ipython3",
   "version": "3.8.8"
  }
 },
 "nbformat": 4,
 "nbformat_minor": 2
}
